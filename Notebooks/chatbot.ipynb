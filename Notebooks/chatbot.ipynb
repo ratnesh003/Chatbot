{
 "cells": [
  {
   "cell_type": "code",
   "execution_count": 3,
   "id": "b55b4ee0",
   "metadata": {},
   "outputs": [],
   "source": [
    "from langchain_groq import ChatGroq\n",
    "from typing import Annotated\n",
    "from typing_extensions import TypedDict\n",
    "from langgraph.graph import StateGraph, state, START, END\n",
    "from langgraph.graph.message import add_messages\n",
    "from dotenv import load_dotenv\n",
    "from langchain.chat_models import init_chat_model"
   ]
  },
  {
   "cell_type": "code",
   "execution_count": 4,
   "id": "2259646e",
   "metadata": {},
   "outputs": [
    {
     "data": {
      "text/plain": [
       "True"
      ]
     },
     "execution_count": 4,
     "metadata": {},
     "output_type": "execute_result"
    }
   ],
   "source": [
    "load_dotenv()"
   ]
  },
  {
   "cell_type": "code",
   "execution_count": 5,
   "id": "c0fe225c",
   "metadata": {},
   "outputs": [],
   "source": [
    "class State(TypedDict):\n",
    "    messages: Annotated[list, add_messages]"
   ]
  },
  {
   "cell_type": "code",
   "execution_count": 6,
   "id": "978e659d",
   "metadata": {},
   "outputs": [],
   "source": [
    "graph_builder = StateGraph(State)"
   ]
  },
  {
   "cell_type": "code",
   "execution_count": 7,
   "id": "d7b27875",
   "metadata": {},
   "outputs": [],
   "source": [
    "llm = ChatGroq(model=\"llama3-8b-8192\")"
   ]
  },
  {
   "cell_type": "code",
   "execution_count": 8,
   "id": "c99bfc8e",
   "metadata": {},
   "outputs": [],
   "source": [
    "# Node functionality\n",
    "def chatbot(state: State):\n",
    "    return {\"messages\":[llm.invoke(state[\"messages\"])]}"
   ]
  },
  {
   "cell_type": "code",
   "execution_count": 9,
   "id": "81cddc6a",
   "metadata": {},
   "outputs": [],
   "source": [
    "from langgraph.checkpoint.memory import InMemorySaver"
   ]
  },
  {
   "cell_type": "code",
   "execution_count": 10,
   "id": "e20003ac",
   "metadata": {},
   "outputs": [],
   "source": [
    "graph_builder = StateGraph(State)\n",
    "\n",
    "graph_builder.add_node(\n",
    "    node=\"llmchatbot\",\n",
    "    action=chatbot\n",
    ")\n",
    "graph_builder.add_edge(\n",
    "    start_key=START,\n",
    "    end_key=\"llmchatbot\",\n",
    ")\n",
    "graph_builder.add_edge(\n",
    "    start_key=\"llmchatbot\",   \n",
    "    end_key=END,\n",
    ")\n",
    "checkpointer = InMemorySaver()\n",
    "graph = graph_builder.compile(checkpointer=checkpointer)"
   ]
  },
  {
   "cell_type": "code",
   "execution_count": 11,
   "id": "59a3cdf2",
   "metadata": {},
   "outputs": [
    {
     "data": {
      "image/png": "[encoded data removed]",
      "text/plain": [
       "<langgraph.graph.state.CompiledStateGraph object at 0x00000256F076DBE0>"
      ]
     },
     "execution_count": 11,
     "metadata": {},
     "output_type": "execute_result"
    }
   ],
   "source": [
    "graph"
   ]
  },
  {
   "cell_type": "code",
   "execution_count": 12,
   "id": "71a5ee16",
   "metadata": {},
   "outputs": [],
   "source": [
    "config = {\"configurable\": {\"thread_id\": \"1\", \"username\": \"user1\"}}"
   ]
  },
  {
   "cell_type": "code",
   "execution_count": 13,
   "id": "00331a8c",
   "metadata": {},
   "outputs": [],
   "source": [
    "output = graph.invoke({\"messages\": [\"Hello, how are you?\"]},config)"
   ]
  },
  {
   "cell_type": "code",
   "execution_count": 14,
   "id": "1f2a9100",
   "metadata": {},
   "outputs": [
    {
     "data": {
      "text/plain": [
       "[HumanMessage(content='Hello, how are you?', additional_kwargs={}, response_metadata={}, id='4a266045-def1-4992-95a0-441aae779ac8'),\n",
       " AIMessage(content='Hello! I\\'m just a language model, I don\\'t have feelings or emotions like humans do, so I don\\'t have good or bad days. I\\'m always \"on\" and ready to assist you with any questions or tasks you may have. It\\'s great to chat with you! How can I help you today?', additional_kwargs={}, response_metadata={'token_usage': {'completion_tokens': 66, 'prompt_tokens': 16, 'total_tokens': 82, 'completion_time': 0.065795312, 'prompt_time': 0.002867373, 'queue_time': 0.287424305, 'total_time': 0.068662685}, 'model_name': 'llama3-8b-8192', 'system_fingerprint': 'fp_8b7c3a83f7', 'finish_reason': 'stop', 'logprobs': None}, id='run--2dc4c61a-5b07-4fb2-95a8-7ca341ff8449-0', usage_metadata={'input_tokens': 16, 'output_tokens': 66, 'total_tokens': 82})]"
      ]
     },
     "execution_count": 14,
     "metadata": {},
     "output_type": "execute_result"
    }
   ],
   "source": [
    "output['messages']"
   ]
  },
  {
   "cell_type": "code",
   "execution_count": 15,
   "id": "57a5e263",
   "metadata": {},
   "outputs": [
    {
     "data": {
      "text/plain": [
       "{'messages': [HumanMessage(content='Hello, how are you?', additional_kwargs={}, response_metadata={}, id='4a266045-def1-4992-95a0-441aae779ac8'),\n",
       "  AIMessage(content='Hello! I\\'m just a language model, I don\\'t have feelings or emotions like humans do, so I don\\'t have good or bad days. I\\'m always \"on\" and ready to assist you with any questions or tasks you may have. It\\'s great to chat with you! How can I help you today?', additional_kwargs={}, response_metadata={'token_usage': {'completion_tokens': 66, 'prompt_tokens': 16, 'total_tokens': 82, 'completion_time': 0.065795312, 'prompt_time': 0.002867373, 'queue_time': 0.287424305, 'total_time': 0.068662685}, 'model_name': 'llama3-8b-8192', 'system_fingerprint': 'fp_8b7c3a83f7', 'finish_reason': 'stop', 'logprobs': None}, id='run--2dc4c61a-5b07-4fb2-95a8-7ca341ff8449-0', usage_metadata={'input_tokens': 16, 'output_tokens': 66, 'total_tokens': 82}),\n",
       "  HumanMessage(content='What are you doing?', additional_kwargs={}, response_metadata={}, id='ff11fd04-d52d-47d8-bef2-114d5687f0f5'),\n",
       "  AIMessage(content='I\\'m an AI designed to assist and communicate with humans, so I\\'m always \"on the job\" in some way. Here are some things I can do:\\n\\n* **Answer questions**: I can process natural language queries and provide relevant answers or information on a wide range of topics.\\n* **Generate text**: I can create text based on a prompt, topic, or style. This can be useful for writing articles, emails, chatbot responses, or even creative writing like stories or poetry.\\n* **Translate text**: I can translate text from one language to another, including popular languages like Spanish, French, Chinese, and many more.\\n* **Summarize content**: I can analyze large blocks of text and summarize the main points or key information for easier understanding.\\n* **Chat and converse**: I can engage in natural-sounding conversations, using context and understanding to respond to questions and statements.\\n* **Learn and improve**: I\\'m constantly learning and improving my language abilities based on the data and interactions I receive.\\n\\nThese are just a few examples of what I can do. If you have a specific task or question in mind, feel free to ask and I\\'ll do my best to help!', additional_kwargs={}, response_metadata={'token_usage': {'completion_tokens': 241, 'prompt_tokens': 96, 'total_tokens': 337, 'completion_time': 0.253971101, 'prompt_time': 0.011874435, 'queue_time': 0.28637078, 'total_time': 0.265845536}, 'model_name': 'llama3-8b-8192', 'system_fingerprint': 'fp_6d1c2b0784', 'finish_reason': 'stop', 'logprobs': None}, id='run--7f6a7e01-f719-4542-8476-3ac8e28903d6-0', usage_metadata={'input_tokens': 96, 'output_tokens': 241, 'total_tokens': 337})]}"
      ]
     },
     "execution_count": 15,
     "metadata": {},
     "output_type": "execute_result"
    }
   ],
   "source": [
    "graph.invoke({\"messages\": [\"What are you doing?\"]},config)"
   ]
  },
  {
   "cell_type": "code",
   "execution_count": 19,
   "id": "358d35b0",
   "metadata": {},
   "outputs": [
    {
     "data": {
      "text/plain": [
       "StateSnapshot(values={'messages': [HumanMessage(content='Hello, how are you?', additional_kwargs={}, response_metadata={}, id='4a266045-def1-4992-95a0-441aae779ac8'), AIMessage(content='Hello! I\\'m just a language model, I don\\'t have feelings or emotions like humans do, so I don\\'t have good or bad days. I\\'m always \"on\" and ready to assist you with any questions or tasks you may have. It\\'s great to chat with you! How can I help you today?', additional_kwargs={}, response_metadata={'token_usage': {'completion_tokens': 66, 'prompt_tokens': 16, 'total_tokens': 82, 'completion_time': 0.065795312, 'prompt_time': 0.002867373, 'queue_time': 0.287424305, 'total_time': 0.068662685}, 'model_name': 'llama3-8b-8192', 'system_fingerprint': 'fp_8b7c3a83f7', 'finish_reason': 'stop', 'logprobs': None}, id='run--2dc4c61a-5b07-4fb2-95a8-7ca341ff8449-0', usage_metadata={'input_tokens': 16, 'output_tokens': 66, 'total_tokens': 82}), HumanMessage(content='What are you doing?', additional_kwargs={}, response_metadata={}, id='ff11fd04-d52d-47d8-bef2-114d5687f0f5'), AIMessage(content='I\\'m an AI designed to assist and communicate with humans, so I\\'m always \"on the job\" in some way. Here are some things I can do:\\n\\n* **Answer questions**: I can process natural language queries and provide relevant answers or information on a wide range of topics.\\n* **Generate text**: I can create text based on a prompt, topic, or style. This can be useful for writing articles, emails, chatbot responses, or even creative writing like stories or poetry.\\n* **Translate text**: I can translate text from one language to another, including popular languages like Spanish, French, Chinese, and many more.\\n* **Summarize content**: I can analyze large blocks of text and summarize the main points or key information for easier understanding.\\n* **Chat and converse**: I can engage in natural-sounding conversations, using context and understanding to respond to questions and statements.\\n* **Learn and improve**: I\\'m constantly learning and improving my language abilities based on the data and interactions I receive.\\n\\nThese are just a few examples of what I can do. If you have a specific task or question in mind, feel free to ask and I\\'ll do my best to help!', additional_kwargs={}, response_metadata={'token_usage': {'completion_tokens': 241, 'prompt_tokens': 96, 'total_tokens': 337, 'completion_time': 0.253971101, 'prompt_time': 0.011874435, 'queue_time': 0.28637078, 'total_time': 0.265845536}, 'model_name': 'llama3-8b-8192', 'system_fingerprint': 'fp_6d1c2b0784', 'finish_reason': 'stop', 'logprobs': None}, id='run--7f6a7e01-f719-4542-8476-3ac8e28903d6-0', usage_metadata={'input_tokens': 96, 'output_tokens': 241, 'total_tokens': 337})]}, next=(), config={'configurable': {'thread_id': '1', 'checkpoint_ns': '', 'checkpoint_id': '1f05cca7-d85f-6180-8004-82690ab44862'}}, metadata={'source': 'loop', 'step': 4, 'parents': {}, 'thread_id': '1', 'username': 'user1'}, created_at='2025-07-09T13:42:00.756446+00:00', parent_config={'configurable': {'thread_id': '1', 'checkpoint_ns': '', 'checkpoint_id': '1f05cca7-d2a6-66b9-8003-f2c6db414476'}}, tasks=(), interrupts=())"
      ]
     },
     "execution_count": 19,
     "metadata": {},
     "output_type": "execute_result"
    }
   ],
   "source": [
    "graph.get_state(config)"
   ]
  },
  {
   "cell_type": "code",
   "execution_count": 20,
   "id": "43f86533",
   "metadata": {},
   "outputs": [
    {
     "data": {
      "text/plain": [
       "[StateSnapshot(values={'messages': [HumanMessage(content='Hello, how are you?', additional_kwargs={}, response_metadata={}, id='4a266045-def1-4992-95a0-441aae779ac8'), AIMessage(content='Hello! I\\'m just a language model, I don\\'t have feelings or emotions like humans do, so I don\\'t have good or bad days. I\\'m always \"on\" and ready to assist you with any questions or tasks you may have. It\\'s great to chat with you! How can I help you today?', additional_kwargs={}, response_metadata={'token_usage': {'completion_tokens': 66, 'prompt_tokens': 16, 'total_tokens': 82, 'completion_time': 0.065795312, 'prompt_time': 0.002867373, 'queue_time': 0.287424305, 'total_time': 0.068662685}, 'model_name': 'llama3-8b-8192', 'system_fingerprint': 'fp_8b7c3a83f7', 'finish_reason': 'stop', 'logprobs': None}, id='run--2dc4c61a-5b07-4fb2-95a8-7ca341ff8449-0', usage_metadata={'input_tokens': 16, 'output_tokens': 66, 'total_tokens': 82}), HumanMessage(content='What are you doing?', additional_kwargs={}, response_metadata={}, id='ff11fd04-d52d-47d8-bef2-114d5687f0f5'), AIMessage(content='I\\'m an AI designed to assist and communicate with humans, so I\\'m always \"on the job\" in some way. Here are some things I can do:\\n\\n* **Answer questions**: I can process natural language queries and provide relevant answers or information on a wide range of topics.\\n* **Generate text**: I can create text based on a prompt, topic, or style. This can be useful for writing articles, emails, chatbot responses, or even creative writing like stories or poetry.\\n* **Translate text**: I can translate text from one language to another, including popular languages like Spanish, French, Chinese, and many more.\\n* **Summarize content**: I can analyze large blocks of text and summarize the main points or key information for easier understanding.\\n* **Chat and converse**: I can engage in natural-sounding conversations, using context and understanding to respond to questions and statements.\\n* **Learn and improve**: I\\'m constantly learning and improving my language abilities based on the data and interactions I receive.\\n\\nThese are just a few examples of what I can do. If you have a specific task or question in mind, feel free to ask and I\\'ll do my best to help!', additional_kwargs={}, response_metadata={'token_usage': {'completion_tokens': 241, 'prompt_tokens': 96, 'total_tokens': 337, 'completion_time': 0.253971101, 'prompt_time': 0.011874435, 'queue_time': 0.28637078, 'total_time': 0.265845536}, 'model_name': 'llama3-8b-8192', 'system_fingerprint': 'fp_6d1c2b0784', 'finish_reason': 'stop', 'logprobs': None}, id='run--7f6a7e01-f719-4542-8476-3ac8e28903d6-0', usage_metadata={'input_tokens': 96, 'output_tokens': 241, 'total_tokens': 337})]}, next=(), config={'configurable': {'thread_id': '1', 'checkpoint_ns': '', 'checkpoint_id': '1f05cca7-d85f-6180-8004-82690ab44862'}}, metadata={'source': 'loop', 'step': 4, 'parents': {}, 'thread_id': '1', 'username': 'user1'}, created_at='2025-07-09T13:42:00.756446+00:00', parent_config={'configurable': {'thread_id': '1', 'checkpoint_ns': '', 'checkpoint_id': '1f05cca7-d2a6-66b9-8003-f2c6db414476'}}, tasks=(), interrupts=()),\n",
       " StateSnapshot(values={'messages': [HumanMessage(content='Hello, how are you?', additional_kwargs={}, response_metadata={}, id='4a266045-def1-4992-95a0-441aae779ac8'), AIMessage(content='Hello! I\\'m just a language model, I don\\'t have feelings or emotions like humans do, so I don\\'t have good or bad days. I\\'m always \"on\" and ready to assist you with any questions or tasks you may have. It\\'s great to chat with you! How can I help you today?', additional_kwargs={}, response_metadata={'token_usage': {'completion_tokens': 66, 'prompt_tokens': 16, 'total_tokens': 82, 'completion_time': 0.065795312, 'prompt_time': 0.002867373, 'queue_time': 0.287424305, 'total_time': 0.068662685}, 'model_name': 'llama3-8b-8192', 'system_fingerprint': 'fp_8b7c3a83f7', 'finish_reason': 'stop', 'logprobs': None}, id='run--2dc4c61a-5b07-4fb2-95a8-7ca341ff8449-0', usage_metadata={'input_tokens': 16, 'output_tokens': 66, 'total_tokens': 82}), HumanMessage(content='What are you doing?', additional_kwargs={}, response_metadata={}, id='ff11fd04-d52d-47d8-bef2-114d5687f0f5')]}, next=('llmchatbot',), config={'configurable': {'thread_id': '1', 'checkpoint_ns': '', 'checkpoint_id': '1f05cca7-d2a6-66b9-8003-f2c6db414476'}}, metadata={'source': 'loop', 'step': 3, 'parents': {}, 'thread_id': '1', 'username': 'user1'}, created_at='2025-07-09T13:42:00.156511+00:00', parent_config={'configurable': {'thread_id': '1', 'checkpoint_ns': '', 'checkpoint_id': '1f05cca7-d2a2-6899-8002-77246021216f'}}, tasks=(PregelTask(id='0df9ab60-d210-44c4-d377-96b5efd5a28d', name='llmchatbot', path=('__pregel_pull', 'llmchatbot'), error=None, interrupts=(), state=None, result={'messages': [AIMessage(content='I\\'m an AI designed to assist and communicate with humans, so I\\'m always \"on the job\" in some way. Here are some things I can do:\\n\\n* **Answer questions**: I can process natural language queries and provide relevant answers or information on a wide range of topics.\\n* **Generate text**: I can create text based on a prompt, topic, or style. This can be useful for writing articles, emails, chatbot responses, or even creative writing like stories or poetry.\\n* **Translate text**: I can translate text from one language to another, including popular languages like Spanish, French, Chinese, and many more.\\n* **Summarize content**: I can analyze large blocks of text and summarize the main points or key information for easier understanding.\\n* **Chat and converse**: I can engage in natural-sounding conversations, using context and understanding to respond to questions and statements.\\n* **Learn and improve**: I\\'m constantly learning and improving my language abilities based on the data and interactions I receive.\\n\\nThese are just a few examples of what I can do. If you have a specific task or question in mind, feel free to ask and I\\'ll do my best to help!', additional_kwargs={}, response_metadata={'token_usage': {'completion_tokens': 241, 'prompt_tokens': 96, 'total_tokens': 337, 'completion_time': 0.253971101, 'prompt_time': 0.011874435, 'queue_time': 0.28637078, 'total_time': 0.265845536}, 'model_name': 'llama3-8b-8192', 'system_fingerprint': 'fp_6d1c2b0784', 'finish_reason': 'stop', 'logprobs': None}, id='run--7f6a7e01-f719-4542-8476-3ac8e28903d6-0', usage_metadata={'input_tokens': 96, 'output_tokens': 241, 'total_tokens': 337})]}),), interrupts=()),\n",
       " StateSnapshot(values={'messages': [HumanMessage(content='Hello, how are you?', additional_kwargs={}, response_metadata={}, id='4a266045-def1-4992-95a0-441aae779ac8'), AIMessage(content='Hello! I\\'m just a language model, I don\\'t have feelings or emotions like humans do, so I don\\'t have good or bad days. I\\'m always \"on\" and ready to assist you with any questions or tasks you may have. It\\'s great to chat with you! How can I help you today?', additional_kwargs={}, response_metadata={'token_usage': {'completion_tokens': 66, 'prompt_tokens': 16, 'total_tokens': 82, 'completion_time': 0.065795312, 'prompt_time': 0.002867373, 'queue_time': 0.287424305, 'total_time': 0.068662685}, 'model_name': 'llama3-8b-8192', 'system_fingerprint': 'fp_8b7c3a83f7', 'finish_reason': 'stop', 'logprobs': None}, id='run--2dc4c61a-5b07-4fb2-95a8-7ca341ff8449-0', usage_metadata={'input_tokens': 16, 'output_tokens': 66, 'total_tokens': 82})]}, next=('__start__',), config={'configurable': {'thread_id': '1', 'checkpoint_ns': '', 'checkpoint_id': '1f05cca7-d2a2-6899-8002-77246021216f'}}, metadata={'source': 'input', 'step': 2, 'parents': {}, 'thread_id': '1', 'username': 'user1'}, created_at='2025-07-09T13:42:00.154927+00:00', parent_config={'configurable': {'thread_id': '1', 'checkpoint_ns': '', 'checkpoint_id': '1f05cca7-d262-6b6a-8001-ab87feb2df95'}}, tasks=(PregelTask(id='de281402-09aa-33ac-d00d-796c57b48e22', name='__start__', path=('__pregel_pull', '__start__'), error=None, interrupts=(), state=None, result={'messages': ['What are you doing?']}),), interrupts=()),\n",
       " StateSnapshot(values={'messages': [HumanMessage(content='Hello, how are you?', additional_kwargs={}, response_metadata={}, id='4a266045-def1-4992-95a0-441aae779ac8'), AIMessage(content='Hello! I\\'m just a language model, I don\\'t have feelings or emotions like humans do, so I don\\'t have good or bad days. I\\'m always \"on\" and ready to assist you with any questions or tasks you may have. It\\'s great to chat with you! How can I help you today?', additional_kwargs={}, response_metadata={'token_usage': {'completion_tokens': 66, 'prompt_tokens': 16, 'total_tokens': 82, 'completion_time': 0.065795312, 'prompt_time': 0.002867373, 'queue_time': 0.287424305, 'total_time': 0.068662685}, 'model_name': 'llama3-8b-8192', 'system_fingerprint': 'fp_8b7c3a83f7', 'finish_reason': 'stop', 'logprobs': None}, id='run--2dc4c61a-5b07-4fb2-95a8-7ca341ff8449-0', usage_metadata={'input_tokens': 16, 'output_tokens': 66, 'total_tokens': 82})]}, next=(), config={'configurable': {'thread_id': '1', 'checkpoint_ns': '', 'checkpoint_id': '1f05cca7-d262-6b6a-8001-ab87feb2df95'}}, metadata={'source': 'loop', 'step': 1, 'parents': {}, 'thread_id': '1', 'username': 'user1'}, created_at='2025-07-09T13:42:00.128786+00:00', parent_config={'configurable': {'thread_id': '1', 'checkpoint_ns': '', 'checkpoint_id': '1f05cca7-cb49-6fd8-8000-4ffebefa48a0'}}, tasks=(), interrupts=()),\n",
       " StateSnapshot(values={'messages': [HumanMessage(content='Hello, how are you?', additional_kwargs={}, response_metadata={}, id='4a266045-def1-4992-95a0-441aae779ac8')]}, next=('llmchatbot',), config={'configurable': {'thread_id': '1', 'checkpoint_ns': '', 'checkpoint_id': '1f05cca7-cb49-6fd8-8000-4ffebefa48a0'}}, metadata={'source': 'loop', 'step': 0, 'parents': {}, 'thread_id': '1', 'username': 'user1'}, created_at='2025-07-09T13:41:59.384560+00:00', parent_config={'configurable': {'thread_id': '1', 'checkpoint_ns': '', 'checkpoint_id': '1f05cca7-cb45-67c9-bfff-4e367cd4d0b6'}}, tasks=(PregelTask(id='43775a14-fb26-a50c-eafe-00e9221ce82e', name='llmchatbot', path=('__pregel_pull', 'llmchatbot'), error=None, interrupts=(), state=None, result={'messages': [AIMessage(content='Hello! I\\'m just a language model, I don\\'t have feelings or emotions like humans do, so I don\\'t have good or bad days. I\\'m always \"on\" and ready to assist you with any questions or tasks you may have. It\\'s great to chat with you! How can I help you today?', additional_kwargs={}, response_metadata={'token_usage': {'completion_tokens': 66, 'prompt_tokens': 16, 'total_tokens': 82, 'completion_time': 0.065795312, 'prompt_time': 0.002867373, 'queue_time': 0.287424305, 'total_time': 0.068662685}, 'model_name': 'llama3-8b-8192', 'system_fingerprint': 'fp_8b7c3a83f7', 'finish_reason': 'stop', 'logprobs': None}, id='run--2dc4c61a-5b07-4fb2-95a8-7ca341ff8449-0', usage_metadata={'input_tokens': 16, 'output_tokens': 66, 'total_tokens': 82})]}),), interrupts=()),\n",
       " StateSnapshot(values={'messages': []}, next=('__start__',), config={'configurable': {'thread_id': '1', 'checkpoint_ns': '', 'checkpoint_id': '1f05cca7-cb45-67c9-bfff-4e367cd4d0b6'}}, metadata={'source': 'input', 'step': -1, 'parents': {}, 'thread_id': '1', 'username': 'user1'}, created_at='2025-07-09T13:41:59.382819+00:00', parent_config=None, tasks=(PregelTask(id='88e93231-72ae-4d1e-36fc-09c924051a49', name='__start__', path=('__pregel_pull', '__start__'), error=None, interrupts=(), state=None, result={'messages': ['Hello, how are you?']}),), interrupts=())]"
      ]
     },
     "execution_count": 20,
     "metadata": {},
     "output_type": "execute_result"
    }
   ],
   "source": [
    "list(graph.get_state_history(config))"
   ]
  },
  {
   "cell_type": "code",
   "execution_count": 22,
   "id": "d36cd06e",
   "metadata": {},
   "outputs": [],
   "source": [
    "from langgraph.store.memory import InMemoryStore"
   ]
  },
  {
   "cell_type": "code",
   "execution_count": 29,
   "id": "1a6246fe",
   "metadata": {},
   "outputs": [],
   "source": [
    "in_memory_store = InMemoryStore()"
   ]
  },
  {
   "cell_type": "code",
   "execution_count": 24,
   "id": "e49d7997",
   "metadata": {},
   "outputs": [],
   "source": [
    "user_id = \"1\"\n",
    "namespace_for_memory = (user_id, \"memories\")"
   ]
  },
  {
   "cell_type": "code",
   "execution_count": 26,
   "id": "096f5660",
   "metadata": {},
   "outputs": [],
   "source": [
    "memory_id = \"id1\""
   ]
  },
  {
   "cell_type": "code",
   "execution_count": 27,
   "id": "57f4154e",
   "metadata": {},
   "outputs": [],
   "source": [
    "memory = {'food_preference':'I like pizza'}"
   ]
  },
  {
   "cell_type": "code",
   "execution_count": 31,
   "id": "b49bad0b",
   "metadata": {},
   "outputs": [],
   "source": [
    "in_memory_store.put(namespace_for_memory, memory_id, memory)"
   ]
  },
  {
   "cell_type": "code",
   "execution_count": 33,
   "id": "23d87795",
   "metadata": {},
   "outputs": [
    {
     "data": {
      "text/plain": [
       "{'namespace': ['1', 'memories'],\n",
       " 'key': 'id1',\n",
       " 'value': {'food_preference': 'I like pizza'},\n",
       " 'created_at': '2025-07-09T14:21:16.600930+00:00',\n",
       " 'updated_at': '2025-07-09T14:21:16.600940+00:00',\n",
       " 'score': None}"
      ]
     },
     "execution_count": 33,
     "metadata": {},
     "output_type": "execute_result"
    }
   ],
   "source": [
    "in_memory_store.search(namespace_for_memory)[-1].dict()"
   ]
  },
  {
   "cell_type": "code",
   "execution_count": 35,
   "id": "15d9a7dc",
   "metadata": {},
   "outputs": [
    {
     "data": {
      "text/plain": [
       "Item(namespace=['1', 'memories'], key='id1', value={'food_preference': 'I like pizza'}, created_at='2025-07-09T14:21:16.600930+00:00', updated_at='2025-07-09T14:21:16.600940+00:00')"
      ]
     },
     "execution_count": 35,
     "metadata": {},
     "output_type": "execute_result"
    }
   ],
   "source": [
    "in_memory_store.get(namespace_for_memory, memory_id)"
   ]
  },
  {
   "cell_type": "code",
   "execution_count": null,
   "id": "f0c0e778",
   "metadata": {},
   "outputs": [],
   "source": []
  }
 ],
 "metadata": {
  "kernelspec": {
   "display_name": "Agents",
   "language": "python",
   "name": "python3"
  },
  "language_info": {
   "codemirror_mode": {
    "name": "ipython",
    "version": 3
   },
   "file_extension": ".py",
   "mimetype": "text/x-python",
   "name": "python",
   "nbconvert_exporter": "python",
   "pygments_lexer": "ipython3",
   "version": "3.13.5"
  }
 },
 "nbformat": 4,
 "nbformat_minor": 5
}
